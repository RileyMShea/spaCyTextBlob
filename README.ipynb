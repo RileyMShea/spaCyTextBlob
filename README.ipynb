{
 "cells": [
  {
   "cell_type": "markdown",
   "metadata": {},
   "source": [
    "# spaCyTextBlob\n",
    "\n",
    "A TextBlob sentiment analysis pipeline compponent for spaCy.\n",
    "\n",
    "- [Docs](https://spacytextblob.netlify.app/)\n",
    "- [GitHub](https://github.com/SamEdwardes/spaCyTextBlob)\n",
    "- [PyPi](https://pypi.org/project/spacytextblob/)\n",
    "\n",
    "## Table of Contents\n",
    "\n",
    "- [Install](#install)\n",
    "- [Quick Start](#quick-start)\n",
    "- [API](#api)\n",
    "- [Reference and Attribution](#reference-and-attribution)"
   ]
  },
  {
   "cell_type": "markdown",
   "metadata": {},
   "source": [
    "## Install\n",
    "\n",
    "Install spaCyTextBlob from pypi.\n",
    "\n",
    "```bash\n",
    "pip install spacytextblob\n",
    "```\n",
    "\n",
    "TextBlob also requires some data to be downloaded before getting started.\n",
    "\n",
    "```bash\n",
    "python -m textblob.download_corpora\n",
    "```\n",
    "\n",
    "spaCy requires that you download a model to get started.\n",
    "\n",
    "```bash\n",
    "python -m spacy download en_core_web_sm\n",
    "```"
   ]
  },
  {
   "cell_type": "markdown",
   "metadata": {},
   "source": [
    "## Quick Start"
   ]
  },
  {
   "cell_type": "code",
   "execution_count": 1,
   "metadata": {},
   "outputs": [],
   "source": [
    "import spacy\n",
    "from spacytextblob.spacytextblob import SpacyTextBlob\n",
    "\n",
    "nlp = spacy.load('en_core_web_sm')\n",
    "nlp.add_pipe(\"spacytextblob\")\n",
    "text = \"I had a really horrible day. It was the worst day ever! But every now and then I have a really good day that makes me happy.\"\n",
    "doc = nlp(text)"
   ]
  },
  {
   "cell_type": "code",
   "execution_count": 2,
   "metadata": {},
   "outputs": [
    {
     "name": "stdout",
     "output_type": "stream",
     "text": [
      "Polarity: -0.125\n"
     ]
    }
   ],
   "source": [
    "print('Polarity:', doc._.polarity)"
   ]
  },
  {
   "cell_type": "code",
   "execution_count": 3,
   "metadata": {},
   "outputs": [
    {
     "name": "stdout",
     "output_type": "stream",
     "text": [
      "Sujectivity: 0.9\n"
     ]
    }
   ],
   "source": [
    "print('Sujectivity:', doc._.subjectivity)"
   ]
  },
  {
   "cell_type": "code",
   "execution_count": 4,
   "metadata": {},
   "outputs": [
    {
     "name": "stdout",
     "output_type": "stream",
     "text": [
      "Assessments: [(['really', 'horrible'], -1.0, 1.0, None), (['worst', '!'], -1.0, 1.0, None), (['really', 'good'], 0.7, 0.6000000000000001, None), (['happy'], 0.8, 1.0, None)]\n"
     ]
    }
   ],
   "source": [
    "print('Assessments:', doc._.assessments)"
   ]
  },
  {
   "cell_type": "markdown",
   "metadata": {},
   "source": [
    "## Reference and Attribution\n",
    "\n",
    "- TextBlob\n",
    "    - [https://github.com/sloria/TextBlob](https://github.com/sloria/TextBlob)\n",
    "    - [https://textblob.readthedocs.io/en/latest/](https://textblob.readthedocs.io/en/latest/)\n",
    "- negspaCy (for inpiration in writing pipeline and organizing repo)\n",
    "    - [https://github.com/jenojp/negspacy](https://github.com/jenojp/negspacy)\n",
    "- spaCy custom components\n",
    "    - [https://spacy.io/usage/processing-pipelines#custom-components](https://spacy.io/usage/processing-pipelines#custom-components)"
   ]
  }
 ],
 "metadata": {
  "kernelspec": {
   "display_name": "Python 3",
   "language": "python",
   "name": "python3"
  },
  "language_info": {
   "codemirror_mode": {
    "name": "ipython",
    "version": 3
   },
   "file_extension": ".py",
   "mimetype": "text/x-python",
   "name": "python",
   "nbconvert_exporter": "python",
   "pygments_lexer": "ipython3",
   "version": "3.8.8"
  }
 },
 "nbformat": 4,
 "nbformat_minor": 4
}
